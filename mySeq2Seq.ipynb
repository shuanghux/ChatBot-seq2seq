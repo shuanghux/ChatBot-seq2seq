{
 "cells": [
  {
   "cell_type": "code",
   "execution_count": 1,
   "metadata": {},
   "outputs": [],
   "source": [
    "import numpy as np #matrix math \n",
    "import tensorflow as tf #machine learningt\n",
    "import helpers #for formatting data into batches and generating random sequence data\n",
    "from tensorflow.python.ops.rnn_cell import LSTMCell, LSTMStateTuple\n",
    "from tensorflow.python.layers.core import Dense\n",
    "from datasets.twitter import data\n",
    "import data_utils\n",
    "from tensorlayer.layers import *\n",
    "import tensorlayer as tl"
   ]
  },
  {
   "cell_type": "code",
   "execution_count": 2,
   "metadata": {},
   "outputs": [],
   "source": [
    "\n",
    "\n",
    "# load data from pickle and npy files\n",
    "metadata, idx_q, idx_a = data.load_data(PATH='datasets/cornell_corpus/')\n",
    "(trainX, trainY), (testX, testY), (validX, validY) = data_utils.split_dataset(idx_q, idx_a)\n",
    "\n",
    "# pre-process training data part I\n",
    "trainX = trainX.tolist()\n",
    "trainY = trainY.tolist()\n",
    "trainX = tl.prepro.remove_pad_sequences(trainX)\n",
    "trainY = tl.prepro.remove_pad_sequences(trainY)\n",
    "\n",
    "# parameters \n",
    "xseq_len = len(trainX)\n",
    "yseq_len = len(trainY)\n",
    "assert xseq_len == yseq_len\n",
    "BATCH_SIZE = 32\n",
    "xvocab_size = len(metadata['idx2w'])  \n",
    "yvocab_size = xvocab_size\n",
    "emb_dim = 1024\n",
    "\n",
    "encoder_max_time = 20\n",
    "decoder_max_time = encoder_max_time\n"
   ]
  },
  {
   "cell_type": "code",
   "execution_count": 3,
   "metadata": {},
   "outputs": [
    {
     "data": {
      "text/plain": [
       "8002"
      ]
     },
     "execution_count": 3,
     "metadata": {},
     "output_type": "execute_result"
    }
   ],
   "source": [
    "xvocab_size"
   ]
  },
  {
   "cell_type": "code",
   "execution_count": 4,
   "metadata": {},
   "outputs": [
    {
     "data": {
      "text/plain": [
       "\" A data for Seq2Seq should look like this:\\ninput_seqs : ['how', 'are', 'you', '<PAD_ID'>]\\ndecode_seqs : ['<START_ID>', 'I', 'am', 'fine', '<PAD_ID'>]\\ntarget_seqs : ['I', 'am', 'fine', '<END_ID>', '<PAD_ID'>]\\ntarget_mask : [1, 1, 1, 1, 0]\\n\""
      ]
     },
     "execution_count": 4,
     "metadata": {},
     "output_type": "execute_result"
    }
   ],
   "source": [
    "# updata parameters with preprocessing\n",
    "w2idx = metadata['w2idx']\n",
    "idx2w = metadata['idx2w']\n",
    "unk_id = w2idx['unk']\n",
    "pad_id = w2idx['_']\n",
    "start_id = xvocab_size\n",
    "end_id = xvocab_size+1\n",
    "w2idx.update({'start_id': start_id})\n",
    "w2idx.update({'end_id': end_id})\n",
    "idx2w = idx2w + ['start_id', 'end_id']\n",
    "xvocab_size = yvocab_size = xvocab_size + 2\n",
    "\n",
    "\"\"\" A data for Seq2Seq should look like this:\n",
    "input_seqs : ['how', 'are', 'you', '<PAD_ID'>]\n",
    "decode_seqs : ['<START_ID>', 'I', 'am', 'fine', '<PAD_ID'>]\n",
    "target_seqs : ['I', 'am', 'fine', '<END_ID>', '<PAD_ID'>]\n",
    "target_mask : [1, 1, 1, 1, 0]\n",
    "\"\"\""
   ]
  },
  {
   "cell_type": "code",
   "execution_count": 53,
   "metadata": {},
   "outputs": [],
   "source": [
    "iterator = tl.iterate.minibatches(inputs = trainX, targets = trainY, batch_size = BATCH_SIZE, shuffle = False)"
   ]
  },
  {
   "cell_type": "code",
   "execution_count": 52,
   "metadata": {},
   "outputs": [
    {
     "data": {
      "text/plain": [
       "(32,)"
      ]
     },
     "execution_count": 52,
     "metadata": {},
     "output_type": "execute_result"
    }
   ],
   "source": [
    "fd = chatbot_train_next_batch(start_id)\n",
    "fd[go_tokens].shape"
   ]
  },
  {
   "cell_type": "code",
   "execution_count": 68,
   "metadata": {},
   "outputs": [
    {
     "data": {
      "text/plain": [
       "2"
      ]
     },
     "execution_count": 68,
     "metadata": {},
     "output_type": "execute_result"
    }
   ],
   "source": [
    "int(5/2)"
   ]
  },
  {
   "cell_type": "code",
   "execution_count": 39,
   "metadata": {},
   "outputs": [],
   "source": [
    "def chatbot_train_next_batch(go_id):\n",
    "    X, Y = iterator.__next__()\n",
    "    #[batch_size, max_seq_len]\n",
    "    _encoder_seqs = tl.prepro.pad_sequences(X)\n",
    "    _target_seqs = tl.prepro.sequences_add_end_id(Y, end_id = end_id)\n",
    "    ##[batch_size, max_seq_len]\n",
    "    _target_seqs = tl.prepro.pad_sequences(_target_seqs)\n",
    "    _decode_seqs = tl.prepro.sequences_add_start_id(Y, start_id = start_id, remove_last = False)\n",
    "    #[batch_size, max_seq_len]\n",
    "    _decode_seqs = tl.prepro.pad_sequences(_decode_seqs)\n",
    "    #[batch_size, max_seq_len]\n",
    "    _target_masks = tl.prepro.sequences_get_mask(_target_seqs)\n",
    "    return {\n",
    "        encoder_inputs: np.array(_encoder_seqs).T,\n",
    "        decoder_targets: np.array(_target_seqs).T,\n",
    "        decoder_masks: _target_masks.T,\n",
    "        go_tokens: np.zeros(len(_encoder_seqs)) + go_id\n",
    "    }"
   ]
  },
  {
   "cell_type": "code",
   "execution_count": 54,
   "metadata": {},
   "outputs": [],
   "source": [
    "tf.reset_default_graph()"
   ]
  },
  {
   "cell_type": "code",
   "execution_count": 67,
   "metadata": {},
   "outputs": [
    {
     "data": {
      "text/plain": [
       "8004"
      ]
     },
     "execution_count": 67,
     "metadata": {},
     "output_type": "execute_result"
    }
   ],
   "source": [
    "xvocab_size"
   ]
  },
  {
   "cell_type": "code",
   "execution_count": 55,
   "metadata": {},
   "outputs": [],
   "source": [
    "\n",
    "\n",
    "vocab_size = xvocab_size\n",
    "input_embedding_size = emb_dim #character length\n",
    "\n",
    "encoder_hidden_units = emb_dim #num neurons\n",
    "decoder_hidden_units = encoder_hidden_units * 2"
   ]
  },
  {
   "cell_type": "markdown",
   "metadata": {},
   "source": [
    "- `encoder_inputs` int32 tensor is shaped `[encoder_max_time, batch_size]`\n",
    "- `decoder_targets` int32 tensor is shaped `[decoder_max_time, batch_size]`"
   ]
  },
  {
   "cell_type": "code",
   "execution_count": 56,
   "metadata": {},
   "outputs": [],
   "source": [
    "#inputs dimension [encoder_max_time, batch_size]\n",
    "encoder_inputs = tf.placeholder(shape=(None, None), dtype=tf.int32, name='encoder_inputs')\n",
    "#contains the lengths for each of the sequence in the batch, we will pad so all the same\n",
    "#if you don't want to pad, check out dynamic memory networks to input variable length sequences\n",
    "#retrieve_seq_length need argument with shape [batch_size, max_seq_len]\n",
    "encoder_inputs_length = retrieve_seq_length_op2(tf.transpose(encoder_inputs))\n",
    "decoder_targets = tf.placeholder(shape=(None, None), dtype=tf.int32, name='decoder_targets')\n",
    "#target_masks [max_seq_len, batch_size]\n",
    "decoder_masks = tf.placeholder(shape = (None, None), dtype = tf.int32, name = 'decoder_masks')\n",
    "go_tokens = tf.placeholder(shape = (None,), dtype = tf.int32, name = 'go_tokens')"
   ]
  },
  {
   "cell_type": "markdown",
   "metadata": {},
   "source": [
    "### Define Embedding Matrix"
   ]
  },
  {
   "cell_type": "code",
   "execution_count": 57,
   "metadata": {},
   "outputs": [],
   "source": [
    "with tf.device(\"/cpu:0\"):\n",
    "    #randomly initialized embedding matrrix that can fit input sequence\n",
    "    #used to convert sequences to vectors (embeddings) for both encoder and decoder of the right size\n",
    "    #reshaping is a thing, in TF you gotta make sure you tensors are the right shape (num dimensions)\n",
    "    embeddings = tf.Variable(tf.random_uniform([vocab_size, input_embedding_size], -1.0, 1.0), dtype=tf.float32)\n",
    "\n",
    "    #this thing could get huge in a real world application\n",
    "\n",
    "    encoder_inputs_embedded = tf.nn.embedding_lookup(embeddings, encoder_inputs)\n",
    "    decoder_inputs_embedded = tf.nn.embedding_lookup(embeddings, decoder_targets)"
   ]
  },
  {
   "cell_type": "markdown",
   "metadata": {},
   "source": [
    "### Preprocess inputs and outputs\n",
    "- my_encoder_inputs: Dimension(8, batch_size)\n",
    "- my_encoder_inputs_length: Dimension(batch_size)\n",
    "- my_decoder_targets: Dimension(11, batch_size)"
   ]
  },
  {
   "cell_type": "code",
   "execution_count": 58,
   "metadata": {},
   "outputs": [],
   "source": [
    "\n",
    "\n",
    "batches = helpers.random_sequences(length_from=3, length_to=8,\n",
    "                                   vocab_lower=2, vocab_upper=10,\n",
    "                                   batch_size=batch_size)\n",
    "def next_feed():\n",
    "    batch = next(batches)\n",
    "    encoder_inputs_, encoder_input_lengths_ = helpers.batch(batch)\n",
    "    decoder_targets_, _ = helpers.batch(\n",
    "        [(sequence) + [EOS] + [PAD] * 2 for sequence in batch]\n",
    "    )\n",
    "    return {\n",
    "        encoder_inputs: encoder_inputs_,\n",
    "        encoder_inputs_length: encoder_input_lengths_,\n",
    "        decoder_targets: decoder_targets_,\n",
    "    }"
   ]
  },
  {
   "cell_type": "code",
   "execution_count": 247,
   "metadata": {},
   "outputs": [],
   "source": [
    "orig = next_feed()"
   ]
  },
  {
   "cell_type": "code",
   "execution_count": 248,
   "metadata": {},
   "outputs": [],
   "source": [
    "def get_seq_len(batch_x):\n",
    "    #batch_x with shape [seq_len, batch_size]\n",
    "    return [np.nonzero(batch_x[:,i])[0].size for i in range(batch_x.shape[1])]"
   ]
  },
  {
   "cell_type": "markdown",
   "metadata": {},
   "source": [
    "### Define Encoder as Bidirectional LSTM Cell"
   ]
  },
  {
   "cell_type": "code",
   "execution_count": 59,
   "metadata": {},
   "outputs": [],
   "source": [
    "encoder_cell = LSTMCell(encoder_hidden_units)\n",
    "\n",
    "((encoder_fw_outputs,\n",
    "  encoder_bw_outputs),\n",
    " (encoder_fw_final_state,\n",
    "  encoder_bw_final_state)) = (\n",
    "    tf.nn.bidirectional_dynamic_rnn(cell_fw=encoder_cell,\n",
    "                                    cell_bw=encoder_cell,\n",
    "                                    inputs=encoder_inputs_embedded,\n",
    "                                    sequence_length=encoder_inputs_length,\n",
    "                                    dtype=tf.float32, time_major=True)\n",
    "    )\n",
    "\n",
    "#Concatenates tensors along one dimension.\n",
    "encoder_outputs = tf.concat((encoder_fw_outputs, encoder_bw_outputs), 2)\n",
    "\n",
    "#letters h and c are commonly used to denote \"output value\" and \"cell state\". \n",
    "#http://colah.github.io/posts/2015-08-Understanding-LSTMs/ \n",
    "#Those tensors represent combined internal state of the cell, and should be passed together. \n",
    "\n",
    "encoder_final_state_c = tf.concat(\n",
    "    (encoder_fw_final_state.c, encoder_bw_final_state.c), 1)\n",
    "\n",
    "encoder_final_state_h = tf.concat(\n",
    "    (encoder_fw_final_state.h, encoder_bw_final_state.h), 1)\n",
    "\n",
    "#TF Tuple used by LSTM Cells for state_size, zero_state, and output state.\n",
    "encoder_final_state = LSTMStateTuple(\n",
    "    c=encoder_final_state_c,\n",
    "    h=encoder_final_state_h\n",
    ")"
   ]
  },
  {
   "cell_type": "markdown",
   "metadata": {},
   "source": [
    "### Define Decoder as Basic LSTM Cell"
   ]
  },
  {
   "cell_type": "code",
   "execution_count": 60,
   "metadata": {},
   "outputs": [],
   "source": [
    "decoder_cell = LSTMCell(decoder_hidden_units)\n",
    "encoder_max_time, batch_size = tf.unstack(tf.shape(encoder_inputs))\n",
    "#????????????\n",
    "decoder_lengths = encoder_inputs_length * 0 + tf.reduce_max(retrieve_seq_length_op2(tf.transpose(decoder_masks)))\n",
    "# +2 additional steps, +1 leading <EOS> token for decoder inputs\n",
    "projection_layer = Dense(units = vocab_size, use_bias = True)\n",
    "#Training Helper\n",
    "# helper = tf.contrib.seq2seq.TrainingHelper(\n",
    "#         decoder_inputs_embedded, decoder_lengths, time_major = True)\n",
    "#Inferencing Helper\n",
    "helper = tf.contrib.seq2seq.GreedyEmbeddingHelper(embeddings, start_tokens = go_tokens, end_token = end_id)\n",
    "decoder = tf.contrib.seq2seq.BasicDecoder(\n",
    "        decoder_cell, helper, encoder_final_state, output_layer = projection_layer)\n",
    "decoder_outputs, _, _ = tf.contrib.seq2seq.dynamic_decode(decoder = decoder,output_time_major = True, maximum_iterations= 20)"
   ]
  },
  {
   "cell_type": "markdown",
   "metadata": {},
   "source": [
    "### Loss and Prediction"
   ]
  },
  {
   "cell_type": "code",
   "execution_count": 61,
   "metadata": {},
   "outputs": [],
   "source": [
    "logits = decoder_outputs.rnn_output\n",
    "decoder_prediction = tf.argmax(logits, 2)\n",
    "#cross_entropy with shape [max_seq_len, batch_size]\n",
    "cross_entropy = tf.nn.softmax_cross_entropy_with_logits_v2(\n",
    "        labels=tf.one_hot(decoder_targets, depth=vocab_size, dtype=tf.float32),\n",
    "        logits = logits)\n",
    "\n",
    "#loss function\n",
    "loss = tf.reduce_mean(cross_entropy * tf.cast(decoder_masks, tf.float32))\n",
    "#train it \n",
    "train_op = tf.train.AdamOptimizer().minimize(loss)\n",
    "# train_op = tf.train.MomentumOptimizer(0.01,0.9).minimize(loss)"
   ]
  },
  {
   "cell_type": "code",
   "execution_count": 62,
   "metadata": {},
   "outputs": [
    {
     "name": "stderr",
     "output_type": "stream",
     "text": [
      "/usr/local/lib/python3.5/dist-packages/tensorflow/python/client/session.py:1711: UserWarning: An interactive session is already active. This can cause out-of-memory errors in some cases. You must explicitly call `InteractiveSession.close()` to release resources held by the other session(s).\n",
      "  warnings.warn('An interactive session is already active. This can '\n"
     ]
    }
   ],
   "source": [
    "\n",
    "sess = tf.InteractiveSession(config=tf.ConfigProto(allow_soft_placement=True,device_count={'GPU':1}))\n",
    "sess.run(tf.global_variables_initializer())"
   ]
  },
  {
   "cell_type": "code",
   "execution_count": 63,
   "metadata": {},
   "outputs": [],
   "source": [
    "fd = chatbot_train_next_batch(start_id)\n",
    "predict_ = sess.run(decoder_prediction, fd)"
   ]
  },
  {
   "cell_type": "code",
   "execution_count": 23,
   "metadata": {},
   "outputs": [
    {
     "name": "stdout",
     "output_type": "stream",
     "text": [
      "batch 0\n",
      "  minibatch loss: 2.8437368869781494\n",
      "  sample 1:\n",
      "    input     > [   3   16  263   37   18    6 2483 7144   13  124   97   19   23  285\n",
      " 1884   24  259  226 2066]\n",
      "    predicted > [   3    3    3    3    3    9    9    4    4    1    9    1    1    5\n",
      "    4    5   11    3    3    3 8003    2    2 8003 8003]\n",
      "  sample 2:\n",
      "    input     > [  32   31   35    6 1554 1529    0    0    0    0    0    0    0    0\n",
      "    0    0    0    0    0]\n",
      "    predicted > [  37    2    2    2 8003 8003 8003 8003 8003 8003 8003 8003 8003  623\n",
      "  623  623  623 1289 1289 1289 1289 1289 1289 1289 1289]\n",
      "  sample 3:\n",
      "    input     > [ 61   3  16  88 102  31   6 483 419   0   0   0   0   0   0   0   0   0\n",
      "   0]\n",
      "    predicted > [  87   13 8003 8003 8003 8003 8003 8003 8003 8003  623  623  623  623\n",
      "  623  623  623  623 1289 1289 1289 1289 1289 1289 1289]\n",
      "\n",
      "batch 1000\n",
      "  minibatch loss: 0.060268811881542206\n",
      "  sample 1:\n",
      "    input     > [120   2  52  76  12   8  75  82 124  13   9   1  22 260  85   1  44  58\n",
      "  17 279   0   0   0   0]\n",
      "    predicted > [   3   50   32   31  529    6 1070   29   81  200 6705 3475   11   63\n",
      "   10    4 3569 3581 4208 8003]\n",
      "  sample 2:\n",
      "    input     > [  2 550   5  21  81 473  19 227   0   0   0   0   0   0   0   0   0   0\n",
      "   0   0   0   0   0   0]\n",
      "    predicted > [  97  203   34    9 8003    0    0    0    0    0    0    0    0    0\n",
      "    0    0    0    0    0    0]\n",
      "  sample 3:\n",
      "    input     > [ 8 16  2 51  0  0  0  0  0  0  0  0  0  0  0  0  0  0  0  0  0  0  0  0]\n",
      "    predicted > [   4 7751 1097 8003    0    0    0    0    0    0    0    0    0    0\n",
      "    0    0    0    0    0    0]\n",
      "\n",
      "batch 2000\n",
      "  minibatch loss: 0.005124016664922237\n",
      "  sample 1:\n",
      "    input     > [  43    2   20   79    5  938   12    4 1035   14    6 2500  703  187\n",
      "   46    2   51    5   71    5 2882    0    0    0    0]\n",
      "    predicted > [  43   30   58 8003    0    0    0    0    0    0    0    0    0    0\n",
      "    0    0    0    0    0    0    0    0]\n",
      "  sample 2:\n",
      "    input     > [ 306   35   22   21   85 1076 4763   13   41  120   85  217   10    6\n",
      "    1    0    0    0    0    0    0    0    0    0    0]\n",
      "    predicted > [  42   14    9    8   40   17   14  259   21    6  317   34   91  603\n",
      "   41 8003    0    0    0    0    0    0]\n",
      "  sample 3:\n",
      "    input     > [  16    2   21  116  181 2024 1149    9   22   52   90   60    0    0\n",
      "    0    0    0    0    0    0    0    0    0    0    0]\n",
      "    predicted > [  24  110   64  198    6  304 8003    0    0    0    0    0    0    0\n",
      "    0    0    0    0    0    0    0    0]\n",
      "\n"
     ]
    },
    {
     "ename": "StopIteration",
     "evalue": "",
     "output_type": "error",
     "traceback": [
      "\u001b[0;31m---------------------------------------------------------------------------\u001b[0m",
      "\u001b[0;31mStopIteration\u001b[0m                             Traceback (most recent call last)",
      "\u001b[0;32m<ipython-input-23-9d4814660cae>\u001b[0m in \u001b[0;36m<module>\u001b[0;34m()\u001b[0m\n\u001b[1;32m      7\u001b[0m \u001b[0;32mtry\u001b[0m\u001b[0;34m:\u001b[0m\u001b[0;34m\u001b[0m\u001b[0m\n\u001b[1;32m      8\u001b[0m     \u001b[0;32mfor\u001b[0m \u001b[0mbatch\u001b[0m \u001b[0;32min\u001b[0m \u001b[0mrange\u001b[0m\u001b[0;34m(\u001b[0m\u001b[0mmax_batches\u001b[0m\u001b[0;34m)\u001b[0m\u001b[0;34m:\u001b[0m\u001b[0;34m\u001b[0m\u001b[0m\n\u001b[0;32m----> 9\u001b[0;31m         \u001b[0mfd\u001b[0m \u001b[0;34m=\u001b[0m \u001b[0mchatbot_train_next_batch\u001b[0m\u001b[0;34m(\u001b[0m\u001b[0;34m)\u001b[0m\u001b[0;34m\u001b[0m\u001b[0m\n\u001b[0m\u001b[1;32m     10\u001b[0m         \u001b[0m_\u001b[0m\u001b[0;34m,\u001b[0m \u001b[0ml\u001b[0m \u001b[0;34m=\u001b[0m \u001b[0msess\u001b[0m\u001b[0;34m.\u001b[0m\u001b[0mrun\u001b[0m\u001b[0;34m(\u001b[0m\u001b[0;34m[\u001b[0m\u001b[0mtrain_op\u001b[0m\u001b[0;34m,\u001b[0m \u001b[0mloss\u001b[0m\u001b[0;34m]\u001b[0m\u001b[0;34m,\u001b[0m \u001b[0mfd\u001b[0m\u001b[0;34m)\u001b[0m\u001b[0;34m\u001b[0m\u001b[0m\n\u001b[1;32m     11\u001b[0m         \u001b[0mloss_track\u001b[0m\u001b[0;34m.\u001b[0m\u001b[0mappend\u001b[0m\u001b[0;34m(\u001b[0m\u001b[0ml\u001b[0m\u001b[0;34m)\u001b[0m\u001b[0;34m\u001b[0m\u001b[0m\n",
      "\u001b[0;32m<ipython-input-22-ffbc5cc51baf>\u001b[0m in \u001b[0;36mchatbot_train_next_batch\u001b[0;34m()\u001b[0m\n\u001b[1;32m      1\u001b[0m \u001b[0;32mdef\u001b[0m \u001b[0mchatbot_train_next_batch\u001b[0m\u001b[0;34m(\u001b[0m\u001b[0;34m)\u001b[0m\u001b[0;34m:\u001b[0m\u001b[0;34m\u001b[0m\u001b[0m\n\u001b[0;32m----> 2\u001b[0;31m     \u001b[0mX\u001b[0m\u001b[0;34m,\u001b[0m \u001b[0mY\u001b[0m \u001b[0;34m=\u001b[0m \u001b[0miterator\u001b[0m\u001b[0;34m.\u001b[0m\u001b[0m__next__\u001b[0m\u001b[0;34m(\u001b[0m\u001b[0;34m)\u001b[0m\u001b[0;34m\u001b[0m\u001b[0m\n\u001b[0m\u001b[1;32m      3\u001b[0m     \u001b[0;31m#[batch_size, max_seq_len]\u001b[0m\u001b[0;34m\u001b[0m\u001b[0;34m\u001b[0m\u001b[0m\n\u001b[1;32m      4\u001b[0m     \u001b[0m_encoder_seqs\u001b[0m \u001b[0;34m=\u001b[0m \u001b[0mtl\u001b[0m\u001b[0;34m.\u001b[0m\u001b[0mprepro\u001b[0m\u001b[0;34m.\u001b[0m\u001b[0mpad_sequences\u001b[0m\u001b[0;34m(\u001b[0m\u001b[0mX\u001b[0m\u001b[0;34m)\u001b[0m\u001b[0;34m\u001b[0m\u001b[0m\n\u001b[1;32m      5\u001b[0m     \u001b[0m_target_seqs\u001b[0m \u001b[0;34m=\u001b[0m \u001b[0mtl\u001b[0m\u001b[0;34m.\u001b[0m\u001b[0mprepro\u001b[0m\u001b[0;34m.\u001b[0m\u001b[0msequences_add_end_id\u001b[0m\u001b[0;34m(\u001b[0m\u001b[0mY\u001b[0m\u001b[0;34m,\u001b[0m \u001b[0mend_id\u001b[0m \u001b[0;34m=\u001b[0m \u001b[0mend_id\u001b[0m\u001b[0;34m)\u001b[0m\u001b[0;34m\u001b[0m\u001b[0m\n",
      "\u001b[0;31mStopIteration\u001b[0m: "
     ]
    }
   ],
   "source": [
    "\n",
    "\n",
    "loss_track = []\n",
    "max_batches = 5001\n",
    "batches_in_epoch = 1000\n",
    "\n",
    "try:\n",
    "    for batch in range(max_batches):\n",
    "        fd = chatbot_train_next_batch()\n",
    "        _, l = sess.run([train_op, loss], fd)\n",
    "        loss_track.append(l)\n",
    "\n",
    "        if batch == 0 or batch % (batches_in_epoch) == 0:\n",
    "            print('batch {}'.format(batch))\n",
    "            print('  minibatch loss: {}'.format(sess.run(loss, fd)))\n",
    "            predict_ = sess.run(decoder_prediction, fd)\n",
    "            for i, (inp, pred) in enumerate(zip(fd[encoder_inputs].T, predict_.T)):\n",
    "                \n",
    "                print('  sample {}:'.format(i + 1))\n",
    "                print('    input     > {}'.format(inp))\n",
    "                print('    predicted > {}'.format(pred))\n",
    "                if i >= 2:\n",
    "                    break\n",
    "            print()\n",
    "\n",
    "except KeyboardInterrupt:\n",
    "    print('training interrupted')"
   ]
  },
  {
   "cell_type": "code",
   "execution_count": 24,
   "metadata": {},
   "outputs": [
    {
     "data": {
      "text/plain": [
       "array([  4, 503,  10,  25, 265,   0,   0,   0,   0,   0,   0,   0,   0,\n",
       "         0,   0,   0,   0,   0,   0,   0,   0,   0])"
      ]
     },
     "execution_count": 24,
     "metadata": {},
     "output_type": "execute_result"
    }
   ],
   "source": [
    "fd[encoder_inputs][:,15]"
   ]
  },
  {
   "cell_type": "code",
   "execution_count": 64,
   "metadata": {},
   "outputs": [],
   "source": [
    "q_s = [decode(sequence=fd[encoder_inputs][:,i], lookup=idx2w, separator=' ') for i in range(32)]\n",
    "a_s = [decode(sequence=predict_[:,i], lookup=idx2w, separator=' ') for i in range(32)]"
   ]
  },
  {
   "cell_type": "code",
   "execution_count": 31,
   "metadata": {},
   "outputs": [],
   "source": [
    "def decode(sequence, lookup, separator=''): # 0 used for padding, is ignored\n",
    "    res = ''\n",
    "    for i in range(len(sequence)):\n",
    "        if sequence[i] != 0 and sequence[i] != 6003:\n",
    "            res += lookup[sequence[i]]+' '\n",
    "        else:\n",
    "            return res\n",
    "    return res\n",
    "    "
   ]
  },
  {
   "cell_type": "code",
   "execution_count": 273,
   "metadata": {},
   "outputs": [
    {
     "data": {
      "text/plain": [
       "'the to i '"
      ]
     },
     "execution_count": 273,
     "metadata": {},
     "output_type": "execute_result"
    }
   ],
   "source": [
    "decode(sequence=[2,3,4,6003,2,1], lookup=idx2w, separator=' ')"
   ]
  },
  {
   "cell_type": "code",
   "execution_count": 65,
   "metadata": {},
   "outputs": [
    {
     "name": "stdout",
     "output_type": "stream",
     "text": [
      "--------------------------------------------------------------\n",
      "    Q > can we make this quick unk unk and andrew barrett are having an incredibly unk public break up on the unk again \n",
      "    A > global perspective sudden killing shoots jewelry massey massey neither neither cross yoda accomplished der dated li brilliant cathy cathy audience \n",
      "--------------------------------------------------------------\n",
      "--------------------------------------------------------------\n",
      "    Q > not the unk and unk and unk part please \n",
      "    A > craft stupidity pete dropping yep seventyfive drove child loved toast active cab nap known leak ginger officially peaceful aware digging \n",
      "--------------------------------------------------------------\n",
      "--------------------------------------------------------------\n",
      "    Q > youre asking me out thats so cute whats your name again \n",
      "    A > enemy obvious sunny sunny truth truth side thirtysix jammed elena ocean elsewhere frock ethics claudia mothers patient fright sticking phrase \n",
      "--------------------------------------------------------------\n",
      "--------------------------------------------------------------\n",
      "    Q > gosh if only we could find kat a boyfriend \n",
      "    A > production spite souls otho affect chaos cigars crude ignorance sarah sarah hash sarah millions millions october mans q repressed woman \n",
      "--------------------------------------------------------------\n",
      "--------------------------------------------------------------\n",
      "    Q > unk ma unk this is my head \n",
      "    A > freddie soldiers soldiers reason fort diplomat von saints not rain wore believe feelin zack enter new new belle 18 linda \n",
      "--------------------------------------------------------------\n",
      "--------------------------------------------------------------\n",
      "    Q > how is our little find the unk a date plan unk \n",
      "    A > rex marla leo rex stag feeling phoned madison tear wholl lamb officer back federal grateful grateful rain fortunately fortunately wise \n",
      "--------------------------------------------------------------\n",
      "--------------------------------------------------------------\n",
      "    Q > you got something on your mind \n",
      "    A > turner thomas hoax happily shirt samuel babe twentyone ridiculous ridiculous ridiculous rowan uiu suffered began disk unpredictable obsessed students obsessed \n",
      "--------------------------------------------------------------\n",
      "--------------------------------------------------------------\n",
      "    Q > you have my word as a gentleman \n",
      "    A > valentine journal journal porno porno new new shocked shocked shocked blake fiction fiction fraulein hash twist hash wall reservations everybody \n",
      "--------------------------------------------------------------\n",
      "--------------------------------------------------------------\n",
      "    Q > sure have \n",
      "    A > rest assignment sneak ropes tin bookstore tokyo tokyo ghosts overcome strangely capacity fuck teenagers foreign thigh thompson basic lanes machine \n",
      "--------------------------------------------------------------\n",
      "--------------------------------------------------------------\n",
      "    Q > so thats the kind of guy she likes pretty ones \n",
      "    A > happy hospital discount give legitimate legitimate ears chemicals places iim x stiff serial wed automatic dessert radios stubborn dead overcome \n",
      "--------------------------------------------------------------\n",
      "--------------------------------------------------------------\n",
      "    Q > you know unk \n",
      "    A > crystal lester qualified qualified look look customs customs confession j patio liquid passage kitten kitten apparently becky askin wes wes \n",
      "--------------------------------------------------------------\n",
      "--------------------------------------------------------------\n",
      "    Q > i looked for you back at the party but you always seemed to be occupied \n",
      "    A > marijuana themselves psych cap standard stashed antiques papers pigeons actual bye law cells cheers were bounty nickel bloom destination necessarily \n",
      "--------------------------------------------------------------\n",
      "--------------------------------------------------------------\n",
      "    Q > well no \n",
      "    A > plissken valentine itself mueller wants farther lionel bureau stand pritchett burning disturb yah line peggy swim terrance shoes adm undead \n",
      "--------------------------------------------------------------\n",
      "--------------------------------------------------------------\n",
      "    Q > do you listen to this crap \n",
      "    A > freddie caliber caliber witch wager engine adopted abandon abandon dickson grow todays surgery surgery paso hot kong austin czech by \n",
      "--------------------------------------------------------------\n",
      "--------------------------------------------------------------\n",
      "    Q > me this unk blonde unk im like boring myself \n",
      "    A > afraid engines jacob heller accounted murders vanished how messy schwartz mccall un designed 1000 excited sylvia argument answer locks players \n",
      "--------------------------------------------------------------\n",
      "--------------------------------------------------------------\n",
      "    Q > i figured youd get to the good stuff eventually \n",
      "    A > cellular inspector watches strip genetic strip gentleman gentleman bait bait weight weight mallory experiments gabe parasites heard wealth riot homer \n",
      "--------------------------------------------------------------\n",
      "--------------------------------------------------------------\n",
      "    Q > the real you \n",
      "    A > crystal assist rooney real guarantee knights knights easy crabtree toto mature modest month month geordi geordi banking lovely betray carpet \n",
      "--------------------------------------------------------------\n",
      "--------------------------------------------------------------\n",
      "    Q > she okay \n",
      "    A > handle shoots envy envy missed fa beard sweetie than lawn fighters assuming cloth cops crusher hells twisted psychic definition 21 \n",
      "--------------------------------------------------------------\n",
      "--------------------------------------------------------------\n",
      "    Q > they do to \n",
      "    A > understudy signing asleep stage misery reset quincy cool element herring acid freaking freaking nuke introduced sam less accounts compartment activate \n",
      "--------------------------------------------------------------\n",
      "--------------------------------------------------------------\n",
      "    Q > i have to be home in twenty minutes \n",
      "    A > realized halloran swimming keeper quietly cooperation wholl located cooperation deanna deanna insane insane luke york elevator loyalty she she she \n",
      "--------------------------------------------------------------\n",
      "--------------------------------------------------------------\n",
      "    Q > you think you re the only unk at the prom \n",
      "    A > immediately francis crystal buys safer peggy peggy schmidt bosses freeze hearts sap feelings feelings poison hans colony hans ward ward \n",
      "--------------------------------------------------------------\n",
      "--------------------------------------------------------------\n",
      "    Q > hey sweet cheeks \n",
      "    A > spite personally history considered residence residence residence residence residence residence residence residence residence residence residence residence residence residence residence residence \n",
      "--------------------------------------------------------------\n",
      "--------------------------------------------------------------\n",
      "    Q > listen i want to talk to you about the prom \n",
      "    A > leads upsetting jj deflector treves goodnight donna reminded counsel song realistic realistic realistic realistic fucks looked learn drivin trusting supper \n",
      "--------------------------------------------------------------\n",
      "--------------------------------------------------------------\n",
      "    Q > whereve you been \n",
      "    A > jacques girlfriend merlin kick luc strings satisfaction bear eye germans usual absurd took extension extension girlfriend right right opening sit \n",
      "--------------------------------------------------------------\n",
      "--------------------------------------------------------------\n",
      "    Q > i have the potential to smack the crap out of you if you dont get out of my way \n",
      "    A > written annual distance detective well thatll well pier uhuh murray cabinet cabinet cabinet cabinet eighty eighty undead plate loved cab \n",
      "--------------------------------------------------------------\n",
      "--------------------------------------------------------------\n",
      "    Q > oh my god does this mean youre becoming normal \n",
      "    A > body wished whereas mature whereas disturb sources bureau outfit obrien obrien obrien examining lucky ages swing tide captured alley units \n",
      "--------------------------------------------------------------\n",
      "--------------------------------------------------------------\n",
      "    Q > youre ruining my life because you wont be normal i cant be normal \n",
      "    A > loretta humble talkin touched nono handles boy sometime a causing moving packs scientist actions interests wacko packs mommys role episode \n",
      "--------------------------------------------------------------\n",
      "--------------------------------------------------------------\n",
      "    Q > like im supposed to know what that even means \n",
      "    A > minnesota stop freddie unpredictable guarantee crowded ten investigation deputies glades limousine hafta robbed bracelet march crawford looked issues employed media \n",
      "--------------------------------------------------------------\n",
      "--------------------------------------------------------------\n",
      "    Q > you are so completely unk \n",
      "    A > senior shown lingerie es foolish foolish discovery discovery unable unable subway drowned vacuum 32 32 evan message listed quarter preysing \n",
      "--------------------------------------------------------------\n",
      "--------------------------------------------------------------\n",
      "    Q > bianca i need to talk to you i need to tell you \n",
      "    A > howd cap karras unh 40 almost floors floors pigs owed millions millions prey gibson been pursue army ted protect hands \n",
      "--------------------------------------------------------------\n",
      "--------------------------------------------------------------\n",
      "    Q > i dont get you you act like youre too good for any of this and then you go totally unk when you get here \n",
      "    A > halloran halloran quest quest quest disagree disagree mile willow weighs watches glimpse id courtroom theyre theyre modest gunshot health hooker \n",
      "--------------------------------------------------------------\n",
      "--------------------------------------------------------------\n",
      "    Q > listen i know you hate having to sit home because im not susie high school \n",
      "    A > conspiracy swinging motherfucker buti conduct quiet carlotta metro rug rug hostages rug removed affairs named affairs bloke bloke bloke k \n",
      "--------------------------------------------------------------\n"
     ]
    }
   ],
   "source": [
    "for i in range(32):\n",
    "    print('--------------------------------------------------------------')\n",
    "    print('    Q > {}'.format(q_s[i]))\n",
    "    print('    A > {}'.format(a_s[i]))\n",
    "    print('--------------------------------------------------------------')"
   ]
  },
  {
   "cell_type": "code",
   "execution_count": 278,
   "metadata": {},
   "outputs": [
    {
     "name": "stdout",
     "output_type": "stream",
     "text": [
      "loss 0.0001 after Tensor(\"mul_2:0\", shape=(), dtype=int32) examples (batch_size=Tensor(\"unstack:1\", shape=(), dtype=int32))\n"
     ]
    },
    {
     "data": {
      "image/png": "[encoded data removed]",
      "text/plain": [
       "<Figure size 432x288 with 1 Axes>"
      ]
     },
     "metadata": {},
     "output_type": "display_data"
    }
   ],
   "source": [
    "%matplotlib inline\n",
    "import matplotlib.pyplot as plt\n",
    "plt.plot(loss_track)\n",
    "print('loss {:.4f} after {} examples (batch_size={})'.format(loss_track[-1], len(loss_track)*batch_size, batch_size))"
   ]
  },
  {
   "cell_type": "code",
   "execution_count": 52,
   "metadata": {},
   "outputs": [],
   "source": [
    "sess.close()"
   ]
  },
  {
   "cell_type": "code",
   "execution_count": 85,
   "metadata": {},
   "outputs": [],
   "source": [
    "from tensorlayer.layers import *\n",
    "import tensorlayer as tl"
   ]
  },
  {
   "cell_type": "code",
   "execution_count": 87,
   "metadata": {},
   "outputs": [],
   "source": [
    "w2idx = metadata['w2idx']\n",
    "idx2w = metadata['idx2w']\n",
    "unk_id = w2idx['unk']\n",
    "pad_id = w2idx['_']\n",
    "start_id = xvocab_size\n",
    "end_id = xvocab_size+1\n",
    "w2idx.update({'start_id': start_id})\n",
    "w2idx.update({'end_id': end_id})\n",
    "idx2w = idx2w + ['start_id', 'end_id']\n",
    "xvocab_size = yvocab_size = xvocab_size + 2"
   ]
  },
  {
   "cell_type": "code",
   "execution_count": 92,
   "metadata": {},
   "outputs": [],
   "source": [
    "trainX = trainX.tolist()"
   ]
  },
  {
   "cell_type": "code",
   "execution_count": 96,
   "metadata": {},
   "outputs": [],
   "source": [
    "trainX = tl.prepro.remove_pad_sequences(trainX)"
   ]
  },
  {
   "cell_type": "code",
   "execution_count": 99,
   "metadata": {},
   "outputs": [
    {
     "data": {
      "text/plain": [
       "187262"
      ]
     },
     "execution_count": 99,
     "metadata": {},
     "output_type": "execute_result"
    }
   ],
   "source": [
    "len(trainX)"
   ]
  },
  {
   "cell_type": "code",
   "execution_count": 100,
   "metadata": {},
   "outputs": [
    {
     "data": {
      "text/plain": [
       "(187262, 20)"
      ]
     },
     "execution_count": 100,
     "metadata": {},
     "output_type": "execute_result"
    }
   ],
   "source": [
    "trainY.shape"
   ]
  },
  {
   "cell_type": "code",
   "execution_count": 102,
   "metadata": {},
   "outputs": [
    {
     "name": "stdout",
     "output_type": "stream",
     "text": [
      "['dad', 's', 'dad', 'is', 'our', 'new', 'favorite', 'person']\n"
     ]
    }
   ],
   "source": [
    "print([idx2w[id] for id in trainX[10]])"
   ]
  },
  {
   "cell_type": "code",
   "execution_count": 103,
   "metadata": {},
   "outputs": [],
   "source": [
    "trainY = trainY.tolist()\n",
    "trainY = tl.prepro.remove_pad_sequences(trainY)\n",
    "target_seqs = tl.prepro.sequences_add_end_id([trainY[10]], end_id)[0]"
   ]
  },
  {
   "cell_type": "code",
   "execution_count": 104,
   "metadata": {},
   "outputs": [
    {
     "data": {
      "text/plain": [
       "[78, 342, 63, 68, 746, 6003]"
      ]
     },
     "execution_count": 104,
     "metadata": {},
     "output_type": "execute_result"
    }
   ],
   "source": [
    "target_seqs"
   ]
  },
  {
   "cell_type": "code",
   "execution_count": 105,
   "metadata": {},
   "outputs": [
    {
     "name": "stdout",
     "output_type": "stream",
     "text": [
      "['u', 'gotta', 'love', 'his', 'dad', 'end_id']\n"
     ]
    }
   ],
   "source": [
    "print([idx2w[id] for id in target_seqs])"
   ]
  },
  {
   "cell_type": "code",
   "execution_count": 106,
   "metadata": {},
   "outputs": [],
   "source": [
    "decode_seqs = tl.prepro.sequences_add_start_id([trainY[10]], start_id = start_id, remove_last = False)[0]"
   ]
  },
  {
   "cell_type": "code",
   "execution_count": 107,
   "metadata": {},
   "outputs": [
    {
     "data": {
      "text/plain": [
       "[6002, 78, 342, 63, 68, 746]"
      ]
     },
     "execution_count": 107,
     "metadata": {},
     "output_type": "execute_result"
    }
   ],
   "source": [
    "decode_seqs"
   ]
  },
  {
   "cell_type": "code",
   "execution_count": 108,
   "metadata": {},
   "outputs": [
    {
     "name": "stdout",
     "output_type": "stream",
     "text": [
      "['start_id', 'u', 'gotta', 'love', 'his', 'dad']\n"
     ]
    }
   ],
   "source": [
    "print([idx2w[id] for id in decode_seqs])"
   ]
  },
  {
   "cell_type": "code",
   "execution_count": 109,
   "metadata": {},
   "outputs": [],
   "source": [
    "target_mask = tl.prepro.sequences_get_mask([target_seqs])"
   ]
  },
  {
   "cell_type": "code",
   "execution_count": 116,
   "metadata": {},
   "outputs": [
    {
     "data": {
      "text/plain": [
       "array([1, 1, 1, 1, 1, 1])"
      ]
     },
     "execution_count": 116,
     "metadata": {},
     "output_type": "execute_result"
    }
   ],
   "source": [
    "target_mask[0]"
   ]
  },
  {
   "cell_type": "code",
   "execution_count": 118,
   "metadata": {},
   "outputs": [],
   "source": [
    "feeder = chatbot_train_next_batch()"
   ]
  },
  {
   "cell_type": "code",
   "execution_count": 122,
   "metadata": {},
   "outputs": [],
   "source": [
    "X, Y = trainX[0:16], trainY[0:16]"
   ]
  },
  {
   "cell_type": "code",
   "execution_count": 123,
   "metadata": {},
   "outputs": [],
   "source": [
    "X = tl.prepro.pad_sequences(X)"
   ]
  },
  {
   "cell_type": "code",
   "execution_count": 130,
   "metadata": {},
   "outputs": [],
   "source": [
    "_target_seqs = tl.prepro.sequences_add_end_id(Y, end_id = end_id)"
   ]
  },
  {
   "cell_type": "code",
   "execution_count": 134,
   "metadata": {},
   "outputs": [],
   "source": [
    "_target_seqs = tl.prepro.pad_sequences(_target_seqs)"
   ]
  },
  {
   "cell_type": "code",
   "execution_count": 140,
   "metadata": {},
   "outputs": [],
   "source": [
    "_target_mask = tl.prepro.sequences_get_mask(_target_seqs)"
   ]
  },
  {
   "cell_type": "code",
   "execution_count": 153,
   "metadata": {},
   "outputs": [
    {
     "data": {
      "text/plain": [
       "(16, 20)"
      ]
     },
     "execution_count": 153,
     "metadata": {},
     "output_type": "execute_result"
    }
   ],
   "source": [
    "_target_mask.shape"
   ]
  },
  {
   "cell_type": "code",
   "execution_count": 155,
   "metadata": {},
   "outputs": [],
   "source": [
    "_decode_seqs = tl.prepro.sequences_add_start_id(Y, start_id = start_id, remove_last = False)\n",
    "_decode_seqs = tl.prepro.pad_sequences(_decode_seqs)"
   ]
  },
  {
   "cell_type": "code",
   "execution_count": null,
   "metadata": {},
   "outputs": [],
   "source": []
  }
 ],
 "metadata": {
  "kernelspec": {
   "display_name": "Python 3",
   "language": "python",
   "name": "python3"
  },
  "language_info": {
   "codemirror_mode": {
    "name": "ipython",
    "version": 3
   },
   "file_extension": ".py",
   "mimetype": "text/x-python",
   "name": "python",
   "nbconvert_exporter": "python",
   "pygments_lexer": "ipython3",
   "version": "3.5.2"
  }
 },
 "nbformat": 4,
 "nbformat_minor": 2
}
