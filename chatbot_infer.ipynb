{
 "cells": [
  {
   "cell_type": "code",
   "execution_count": 1,
   "metadata": {},
   "outputs": [],
   "source": [
    "import numpy as np #matrix math \n",
    "import tensorflow as tf #machine learningt\n",
    "import helpers #for formatting data into batches and generating random sequence data\n",
    "from tensorflow.python.ops.rnn_cell import LSTMCell, LSTMStateTuple\n",
    "from tensorflow.python.layers.core import Dense\n",
    "from datasets.twitter import data\n",
    "import data_utils\n",
    "from tensorlayer.layers import *\n",
    "import tensorlayer as tl\n",
    "import time, sys\n",
    "from chatbot_model import chatbot_seq2seq\n"
   ]
  },
  {
   "cell_type": "code",
   "execution_count": 2,
   "metadata": {},
   "outputs": [],
   "source": [
    "import string"
   ]
  },
  {
   "cell_type": "code",
   "execution_count": 3,
   "metadata": {},
   "outputs": [],
   "source": [
    "tf.reset_default_graph()"
   ]
  },
  {
   "cell_type": "code",
   "execution_count": 4,
   "metadata": {},
   "outputs": [],
   "source": [
    "metadata, idx_q, idx_a = data.load_data(PATH='datasets/twitter/')\n",
    "xvocab_size = len(metadata['idx2w'])  \n",
    "# updata parameters with preprocessing\n",
    "w2idx = metadata['w2idx']\n",
    "idx2w = metadata['idx2w']\n",
    "unk_id = w2idx['unk']\n",
    "pad_id = w2idx['_']\n",
    "start_id = xvocab_size\n",
    "end_id = xvocab_size+1\n",
    "w2idx.update({'start_id': start_id})\n",
    "w2idx.update({'end_id': end_id})\n"
   ]
  },
  {
   "cell_type": "code",
   "execution_count": 5,
   "metadata": {},
   "outputs": [],
   "source": [
    "emb_dim = 1024"
   ]
  },
  {
   "cell_type": "code",
   "execution_count": 6,
   "metadata": {},
   "outputs": [],
   "source": [
    "idx2w = idx2w + ['start_id', 'end_id']\n",
    "xvocab_size = yvocab_size = xvocab_size + 2"
   ]
  },
  {
   "cell_type": "code",
   "execution_count": 7,
   "metadata": {},
   "outputs": [],
   "source": [
    "keys = w2idx.keys()"
   ]
  },
  {
   "cell_type": "code",
   "execution_count": 8,
   "metadata": {},
   "outputs": [],
   "source": [
    "translator = str.maketrans('', '', string.punctuation)"
   ]
  },
  {
   "cell_type": "code",
   "execution_count": 9,
   "metadata": {},
   "outputs": [],
   "source": [
    "def text_to_seq(text) :\n",
    "    text = text.translate(translator)\n",
    "    seq = []\n",
    "    for word in text.lower().split():\n",
    "        word_id = w2idx[word] if word in keys else 1\n",
    "        seq.append(word_id)\n",
    "    return seq"
   ]
  },
  {
   "cell_type": "code",
   "execution_count": 10,
   "metadata": {},
   "outputs": [],
   "source": [
    "def seq_to_text(seq) :\n",
    "    text = ''\n",
    "    for word_id in seq :\n",
    "        if word_id == end_id or word_id == pad_id :\n",
    "            break;\n",
    "        else :\n",
    "            text += (idx2w[word_id]) + ' '\n",
    "    return text"
   ]
  },
  {
   "cell_type": "code",
   "execution_count": 11,
   "metadata": {},
   "outputs": [],
   "source": [
    "model = chatbot_seq2seq(\n",
    "    vocab_size = xvocab_size, \n",
    "    input_embedding_size = emb_dim, \n",
    "    encoder_hidden_units = emb_dim, \n",
    "    decoder_hidden_units = 2 * emb_dim\n",
    ")"
   ]
  },
  {
   "cell_type": "code",
   "execution_count": 12,
   "metadata": {},
   "outputs": [],
   "source": [
    "def build_feeder(model, text, go_id, end_id):\n",
    "    seq = text_to_seq(text)\n",
    "    seq_len = len(seq)\n",
    "    seq = np.reshape(np.array(seq), (seq_len,1))\n",
    "    return {\n",
    "        model.encoder_inputs : seq,\n",
    "        model.go_tokens: np.zeros(1) + go_id,\n",
    "        model.end_token: end_id\n",
    "    }"
   ]
  },
  {
   "cell_type": "code",
   "execution_count": null,
   "metadata": {},
   "outputs": [],
   "source": []
  },
  {
   "cell_type": "code",
   "execution_count": 13,
   "metadata": {},
   "outputs": [],
   "source": [
    "sess = tf.Session(config=tf.ConfigProto(allow_soft_placement=True,device_count={'GPU':1}))"
   ]
  },
  {
   "cell_type": "code",
   "execution_count": 14,
   "metadata": {},
   "outputs": [
    {
     "name": "stdout",
     "output_type": "stream",
     "text": [
      "INFO:tensorflow:Restoring parameters from ckpt_dir/model.ckpt\n",
      "Model successfully restored, chatbot ready to chat!\n"
     ]
    }
   ],
   "source": [
    "saver = tf.train.Saver()\n",
    "checkpoint_prefix = 'ckpt_dir'\n",
    "if tf.train.checkpoint_exists(checkpoint_prefix) :\n",
    "    saver.restore(sess, tf.train.latest_checkpoint(checkpoint_prefix))\n",
    "    print('Model successfully restored, chatbot ready to chat!')"
   ]
  },
  {
   "cell_type": "code",
   "execution_count": 25,
   "metadata": {},
   "outputs": [],
   "source": [
    "fd = build_feeder(model, 'hello', start_id, end_id)"
   ]
  },
  {
   "cell_type": "code",
   "execution_count": 26,
   "metadata": {},
   "outputs": [],
   "source": [
    "outs= sess.run(model.beam_outputs, fd)"
   ]
  },
  {
   "cell_type": "code",
   "execution_count": 27,
   "metadata": {},
   "outputs": [
    {
     "data": {
      "text/plain": [
       "array([[[  68, 3617, 7434, 1049, 2263]],\n",
       "\n",
       "       [[  68, 3617, 7434, 1049, 2263]],\n",
       "\n",
       "       [[  68, 3617, 7434, 1049, 2263]],\n",
       "\n",
       "       [[  68, 3617, 7434, 1049, 2263]],\n",
       "\n",
       "       [[  68, 3617, 7434, 1049, 2263]],\n",
       "\n",
       "       [[  68, 3617, 7434, 1049, 2263]],\n",
       "\n",
       "       [[  68, 3617, 7434, 1049, 2263]],\n",
       "\n",
       "       [[  68, 3617, 7434, 1049, 2263]],\n",
       "\n",
       "       [[  68, 3617, 7434, 1049, 2263]],\n",
       "\n",
       "       [[  68, 3617, 7434, 1049, 2263]],\n",
       "\n",
       "       [[  68, 3617, 7434, 1049, 2263]],\n",
       "\n",
       "       [[  68, 3617, 7434, 1049, 2263]],\n",
       "\n",
       "       [[  68, 3617, 7434, 1049, 2263]],\n",
       "\n",
       "       [[  68, 3617, 7434, 1049, 2263]],\n",
       "\n",
       "       [[  68, 3617, 7434, 1049, 2263]],\n",
       "\n",
       "       [[  68, 3617, 7434, 1049, 2263]],\n",
       "\n",
       "       [[  68, 3617, 7434, 1049, 2263]],\n",
       "\n",
       "       [[  68, 3617, 7434, 1049, 2263]],\n",
       "\n",
       "       [[  68, 3617, 7434, 1049, 2263]],\n",
       "\n",
       "       [[  68, 3617, 7434, 1049, 2263]],\n",
       "\n",
       "       [[  68, 3617, 7434, 1049, 2263]],\n",
       "\n",
       "       [[  68, 3617, 7434, 1049, 2263]],\n",
       "\n",
       "       [[  68, 3617, 7434, 1049, 2263]],\n",
       "\n",
       "       [[  68, 3617, 7434, 1049, 2263]],\n",
       "\n",
       "       [[  68, 3617, 7434, 1049, 2263]]], dtype=int32)"
      ]
     },
     "execution_count": 27,
     "metadata": {},
     "output_type": "execute_result"
    }
   ],
   "source": [
    "outs.predicted_ids\n"
   ]
  },
  {
   "cell_type": "code",
   "execution_count": 24,
   "metadata": {},
   "outputs": [
    {
     "data": {
      "text/plain": [
       "'quoting'"
      ]
     },
     "execution_count": 24,
     "metadata": {},
     "output_type": "execute_result"
    }
   ],
   "source": [
    "idx2w[7068]"
   ]
  },
  {
   "cell_type": "code",
   "execution_count": 26,
   "metadata": {},
   "outputs": [
    {
     "data": {
      "text/plain": [
       "TensorShape([Dimension(None), Dimension(4096)])"
      ]
     },
     "execution_count": 26,
     "metadata": {},
     "output_type": "execute_result"
    }
   ],
   "source": [
    "c.shape"
   ]
  },
  {
   "cell_type": "code",
   "execution_count": 19,
   "metadata": {},
   "outputs": [
    {
     "ename": "NameError",
     "evalue": "name 'out' is not defined",
     "output_type": "error",
     "traceback": [
      "\u001b[0;31m---------------------------------------------------------------------------\u001b[0m",
      "\u001b[0;31mNameError\u001b[0m                                 Traceback (most recent call last)",
      "\u001b[0;32m<ipython-input-19-b65b863db5c0>\u001b[0m in \u001b[0;36m<module>\u001b[0;34m()\u001b[0m\n\u001b[0;32m----> 1\u001b[0;31m \u001b[0mseq_to_text\u001b[0m\u001b[0;34m(\u001b[0m\u001b[0mnp\u001b[0m\u001b[0;34m.\u001b[0m\u001b[0mreshape\u001b[0m\u001b[0;34m(\u001b[0m\u001b[0mout\u001b[0m\u001b[0;34m,\u001b[0m\u001b[0mout\u001b[0m\u001b[0;34m.\u001b[0m\u001b[0mshape\u001b[0m\u001b[0;34m[\u001b[0m\u001b[0;36m0\u001b[0m\u001b[0;34m]\u001b[0m\u001b[0;34m)\u001b[0m\u001b[0;34m.\u001b[0m\u001b[0mtolist\u001b[0m\u001b[0;34m(\u001b[0m\u001b[0;34m)\u001b[0m\u001b[0;34m)\u001b[0m\u001b[0;34m\u001b[0m\u001b[0m\n\u001b[0m",
      "\u001b[0;31mNameError\u001b[0m: name 'out' is not defined"
     ]
    }
   ],
   "source": [
    "seq_to_text(np.reshape(out,out.shape[0]).tolist())"
   ]
  },
  {
   "cell_type": "code",
   "execution_count": null,
   "metadata": {},
   "outputs": [],
   "source": []
  }
 ],
 "metadata": {
  "kernelspec": {
   "display_name": "Python 3",
   "language": "python",
   "name": "python3"
  },
  "language_info": {
   "codemirror_mode": {
    "name": "ipython",
    "version": 3
   },
   "file_extension": ".py",
   "mimetype": "text/x-python",
   "name": "python",
   "nbconvert_exporter": "python",
   "pygments_lexer": "ipython3",
   "version": "3.5.2"
  }
 },
 "nbformat": 4,
 "nbformat_minor": 2
}
